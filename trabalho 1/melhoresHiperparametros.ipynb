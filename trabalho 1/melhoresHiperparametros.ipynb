{
 "cells": [
  {
   "cell_type": "markdown",
   "metadata": {},
   "source": [
    "### Implementação do trabalho do aluno que obteve o melhor conjunto de parâmetros e hiperparêmtros para o problema"
   ]
  },
  {
   "cell_type": "code",
   "execution_count": 1,
   "metadata": {},
   "outputs": [
    {
     "name": "stderr",
     "output_type": "stream",
     "text": [
      "Using TensorFlow backend.\n"
     ]
    }
   ],
   "source": [
    "import time\n",
    "import numpy as np\n",
    "from keras.utils import to_categorical\n",
    "from keras import optimizers\n",
    "from keras.datasets import mnist\n",
    "from keras.models import Sequential\n",
    "from keras.layers import LeakyReLU, PReLU\n",
    "from keras.layers.core import Activation, Flatten, Dense\n",
    "from keras.layers.convolutional import Convolution2D, MaxPooling2D, AveragePooling2D"
   ]
  },
  {
   "cell_type": "code",
   "execution_count": 2,
   "metadata": {},
   "outputs": [],
   "source": [
    "batch_size = 32\n",
    "learning_rate = 5e-4\n",
    "decay = 0.0\n",
    "momentum = 0.9\n",
    "num_classes = 10\n",
    "epochs = 20"
   ]
  },
  {
   "cell_type": "code",
   "execution_count": 4,
   "metadata": {},
   "outputs": [
    {
     "name": "stdout",
     "output_type": "stream",
     "text": [
      "shape x_train:  (63000, 32, 32, 1)\n",
      "shape y_train:  (63000, 10)\n",
      "shape x_validate:  (3500, 32, 32, 1)\n",
      "shape y_validate:  (3500, 10)\n",
      "shape x_test:  (3500, 32, 32, 1)\n",
      "shape y_test:  (3500, 10)\n"
     ]
    }
   ],
   "source": [
    "(x_train_aux, y_train_aux), (x_test_aux, y_test_aux) = mnist.load_data()\n",
    "\n",
    "#training - 90%\n",
    "x_train = np.concatenate((x_train_aux, x_test_aux[:3000]))\n",
    "y_train = np.concatenate((y_train_aux, y_test_aux[:3000]))\n",
    "\n",
    "#validation - 5%\n",
    "x_validate = x_test_aux[3000:6500]\n",
    "y_validate = y_test_aux[3000:6500]\n",
    "\n",
    "#test - 5%\n",
    "x_test = x_test_aux[6500:]\n",
    "y_test = y_test_aux[6500:]\n",
    "\n",
    "#Reshape from 28x28 to 32x32\n",
    "x_train = np.array(x_train)\n",
    "x_validate = np.array(x_validate)\n",
    "x_test = np.array(x_test)\n",
    "\n",
    "x_train = x_train.reshape(x_train.shape[0], 28, 28, 1)\n",
    "x_validate = x_validate.reshape(x_validate.shape[0], 28, 28, 1)\n",
    "x_test = x_test.reshape(x_test.shape[0], 28, 28, 1)\n",
    "\n",
    "x_train = np.pad(x_train, ((0,0),(2,2),(2,2),(0,0)), 'constant')\n",
    "x_validate = np.pad(x_validate, ((0,0),(2,2),(2,2),(0,0)), 'constant')\n",
    "x_test = np.pad(x_test, ((0,0),(2,2),(2,2),(0,0)), 'constant')\n",
    "\n",
    "x_train = x_train.astype('float32')\n",
    "x_validate = x_validate.astype('float32')\n",
    "x_test = x_test.astype('float32')\n",
    "\n",
    "x_train /= 255\n",
    "x_validate /= 255\n",
    "x_test /= 255\n",
    "\n",
    "# convert class vectors to binary class matrices\n",
    "y_train = to_categorical(y_train, num_classes)\n",
    "y_validate = to_categorical(y_validate, num_classes)\n",
    "y_test = to_categorical(y_test, num_classes)\n",
    "\n",
    "\n",
    "print(\"shape x_train: \", x_train.shape)\n",
    "print(\"shape y_train: \", y_train.shape)\n",
    "\n",
    "print(\"shape x_validate: \", x_validate.shape)\n",
    "print(\"shape y_validate: \", y_validate.shape)\n",
    "\n",
    "print(\"shape x_test: \", x_test.shape)\n",
    "print(\"shape y_test: \", y_test.shape)"
   ]
  },
  {
   "cell_type": "code",
   "execution_count": 5,
   "metadata": {},
   "outputs": [
    {
     "name": "stdout",
     "output_type": "stream",
     "text": [
      "_________________________________________________________________\n",
      "Layer (type)                 Output Shape              Param #   \n",
      "=================================================================\n",
      "conv2d_1 (Conv2D)            (None, 30, 30, 6)         60        \n",
      "_________________________________________________________________\n",
      "max_pooling2d_1 (MaxPooling2 (None, 15, 15, 6)         0         \n",
      "_________________________________________________________________\n",
      "conv2d_2 (Conv2D)            (None, 13, 13, 16)        880       \n",
      "_________________________________________________________________\n",
      "conv2d_3 (Conv2D)            (None, 11, 11, 20)        2900      \n",
      "_________________________________________________________________\n",
      "max_pooling2d_2 (MaxPooling2 (None, 5, 5, 20)          0         \n",
      "_________________________________________________________________\n",
      "flatten_1 (Flatten)          (None, 500)               0         \n",
      "_________________________________________________________________\n",
      "dense_1 (Dense)              (None, 160)               80160     \n",
      "_________________________________________________________________\n",
      "dense_2 (Dense)              (None, 100)               16100     \n",
      "_________________________________________________________________\n",
      "dense_3 (Dense)              (None, 84)                8484      \n",
      "_________________________________________________________________\n",
      "dense_4 (Dense)              (None, 10)                850       \n",
      "=================================================================\n",
      "Total params: 109,434\n",
      "Trainable params: 109,434\n",
      "Non-trainable params: 0\n",
      "_________________________________________________________________\n"
     ]
    }
   ],
   "source": [
    "model = Sequential()\n",
    "\n",
    "#Layer 1 - Conv 2D\n",
    "model.add(Convolution2D(filters = 6, \n",
    "                 kernel_size = 3, \n",
    "                 strides = 1,\n",
    "                 kernel_initializer='he_normal',\n",
    "                 activation = 'relu', \n",
    "                 input_shape = (32, 32, 1)))\n",
    "\n",
    "#Pooling 2x2\n",
    "model.add(MaxPooling2D(pool_size = 2, strides = 2))\n",
    "\n",
    "#Layer 2 - Conv 2D\n",
    "model.add(Convolution2D(filters = 16, \n",
    "                 kernel_size = 3, \n",
    "                 strides = 1, \n",
    "                 kernel_initializer='he_normal',\n",
    "                 activation = 'relu', \n",
    "                 input_shape = (15, 15, 6)))\n",
    "\n",
    "#Layer 3 - Conv 2D\n",
    "model.add(Convolution2D(filters = 20, \n",
    "                 kernel_size = 3, \n",
    "                 strides = 1, \n",
    "                 kernel_initializer='he_normal',\n",
    "                 activation = 'relu', \n",
    "                 input_shape = (13, 13, 6)))\n",
    "\n",
    "#Pooling 2x2\n",
    "model.add(MaxPooling2D(pool_size = 2, strides = 2))\n",
    "\n",
    "model.add(Flatten())\n",
    "\n",
    "#Layer 4 - Full Connection\n",
    "model.add(Dense(units = 160, kernel_initializer='he_normal', activation = 'relu'))\n",
    "\n",
    "#Layer 5 - Full Connection\n",
    "model.add(Dense(units = 100, kernel_initializer='he_normal', activation = 'relu'))\n",
    "\n",
    "#Layer 6 - Full Connection\n",
    "model.add(Dense(units = 84, kernel_initializer='he_normal', activation = 'relu'))\n",
    "\n",
    "#Layer 7 - Output Layer\n",
    "model.add(Dense(units = num_classes, kernel_initializer='he_normal', activation = 'softmax'))\n",
    "\n",
    "model.summary()"
   ]
  },
  {
   "cell_type": "code",
   "execution_count": 6,
   "metadata": {},
   "outputs": [
    {
     "name": "stdout",
     "output_type": "stream",
     "text": [
      "Train on 63000 samples, validate on 3500 samples\n",
      "Epoch 1/20\n",
      "63000/63000 [==============================] - 62s 992us/step - loss: 0.2035 - acc: 0.9371 - val_loss: 0.0952 - val_acc: 0.9691\n",
      "Epoch 2/20\n",
      "63000/63000 [==============================] - 54s 862us/step - loss: 0.0624 - acc: 0.9808 - val_loss: 0.0383 - val_acc: 0.9857\n",
      "Epoch 3/20\n",
      "63000/63000 [==============================] - 56s 896us/step - loss: 0.0443 - acc: 0.9858 - val_loss: 0.0325 - val_acc: 0.9906\n",
      "Epoch 4/20\n",
      "63000/63000 [==============================] - 55s 877us/step - loss: 0.0344 - acc: 0.9895 - val_loss: 0.0300 - val_acc: 0.9891\n",
      "Epoch 5/20\n",
      "63000/63000 [==============================] - 56s 881us/step - loss: 0.0270 - acc: 0.9913 - val_loss: 0.0229 - val_acc: 0.9920\n",
      "Epoch 6/20\n",
      "63000/63000 [==============================] - 58s 917us/step - loss: 0.0220 - acc: 0.9930 - val_loss: 0.0294 - val_acc: 0.9923\n",
      "Epoch 7/20\n",
      "63000/63000 [==============================] - 56s 888us/step - loss: 0.0178 - acc: 0.9943 - val_loss: 0.0301 - val_acc: 0.9920\n",
      "Epoch 8/20\n",
      "63000/63000 [==============================] - 58s 923us/step - loss: 0.0152 - acc: 0.9950 - val_loss: 0.0233 - val_acc: 0.9937\n",
      "Epoch 9/20\n",
      "63000/63000 [==============================] - 57s 899us/step - loss: 0.0136 - acc: 0.9957 - val_loss: 0.0262 - val_acc: 0.9923\n",
      "Epoch 10/20\n",
      "63000/63000 [==============================] - 58s 918us/step - loss: 0.0116 - acc: 0.9961 - val_loss: 0.0446 - val_acc: 0.9889\n",
      "Epoch 11/20\n",
      "63000/63000 [==============================] - 56s 884us/step - loss: 0.0115 - acc: 0.9964 - val_loss: 0.0275 - val_acc: 0.9920\n",
      "Epoch 12/20\n",
      "63000/63000 [==============================] - 56s 884us/step - loss: 0.0099 - acc: 0.9970 - val_loss: 0.0295 - val_acc: 0.9929\n",
      "Epoch 13/20\n",
      "63000/63000 [==============================] - 57s 912us/step - loss: 0.0079 - acc: 0.9973 - val_loss: 0.0285 - val_acc: 0.9934\n",
      "Epoch 14/20\n",
      "63000/63000 [==============================] - 55s 876us/step - loss: 0.0076 - acc: 0.9977 - val_loss: 0.0256 - val_acc: 0.9937\n",
      "Epoch 15/20\n",
      "63000/63000 [==============================] - 59s 932us/step - loss: 0.0083 - acc: 0.9972 - val_loss: 0.0370 - val_acc: 0.9911\n",
      "Epoch 16/20\n",
      "63000/63000 [==============================] - 57s 909us/step - loss: 0.0073 - acc: 0.9979 - val_loss: 0.0198 - val_acc: 0.9943\n",
      "Epoch 17/20\n",
      "63000/63000 [==============================] - 56s 897us/step - loss: 0.0068 - acc: 0.9977 - val_loss: 0.0407 - val_acc: 0.9911\n",
      "Epoch 18/20\n",
      "63000/63000 [==============================] - 57s 900us/step - loss: 0.0062 - acc: 0.9981 - val_loss: 0.0346 - val_acc: 0.9911\n",
      "Epoch 19/20\n",
      "63000/63000 [==============================] - 57s 904us/step - loss: 0.0060 - acc: 0.9980 - val_loss: 0.0284 - val_acc: 0.9931\n",
      "Epoch 20/20\n",
      "63000/63000 [==============================] - 56s 889us/step - loss: 0.0054 - acc: 0.9985 - val_loss: 0.0512 - val_acc: 0.9894\n",
      "Tempo de treinamento: 1137.445993423462 s\n"
     ]
    }
   ],
   "source": [
    "adam = optimizers.Adam(lr = learning_rate, decay = decay)\n",
    "\n",
    "model.compile(loss = 'categorical_crossentropy',\n",
    "              optimizer = adam,\n",
    "              metrics = ['accuracy'])\n",
    "start = time.time()\n",
    "model.fit(x_train, y_train,\n",
    "          batch_size=batch_size,\n",
    "          epochs=epochs,\n",
    "          verbose=1,\n",
    "          validation_data = (x_validate, y_validate))  \n",
    "end = time.time()\n",
    "print(\"Tempo de treinamento: {} s\".format(end - start))"
   ]
  },
  {
   "cell_type": "code",
   "execution_count": 7,
   "metadata": {},
   "outputs": [
    {
     "name": "stdout",
     "output_type": "stream",
     "text": [
      "3500/3500 [==============================] - 1s 361us/step\n",
      "Loss: 0.03227764595223666  Acc: 0.992\n"
     ]
    }
   ],
   "source": [
    "#Test\n",
    "score = model.evaluate(x_test, y_test, batch_size=batch_size)\n",
    "print('Loss: {}  Acc: {}'.format(score[0], score[1]))"
   ]
  }
 ],
 "metadata": {
  "kernelspec": {
   "display_name": "Python 3",
   "language": "python",
   "name": "python3"
  },
  "language_info": {
   "codemirror_mode": {
    "name": "ipython",
    "version": 3
   },
   "file_extension": ".py",
   "mimetype": "text/x-python",
   "name": "python",
   "nbconvert_exporter": "python",
   "pygments_lexer": "ipython3",
   "version": "3.5.2"
  }
 },
 "nbformat": 4,
 "nbformat_minor": 2
}
