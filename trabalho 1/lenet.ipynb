{
 "cells": [
  {
   "cell_type": "code",
   "execution_count": 17,
   "metadata": {},
   "outputs": [],
   "source": [
    "import matplotlib.pyplot as plt\n",
    "\n",
    "import numpy as np\n",
    "\n",
    "import keras\n",
    "\n",
    "from keras.datasets import mnist\n",
    "\n",
    "from keras.models import Sequential\n",
    "\n",
    "from keras.layers import Conv2D\n",
    "from keras.layers import MaxPooling2D\n",
    "from keras.layers import AveragePooling2D\n",
    "from keras.layers import Flatten\n",
    "from keras.layers import Dense\n",
    "from keras.layers import Dropout\n",
    "\n",
    "from keras import optimizers as optimizers\n",
    "\n",
    "from keras.utils.np_utils import to_categorical\n",
    "\n",
    "from keras.preprocessing.image import ImageDataGenerator #para data augmentation\n",
    "\n",
    "from PIL import Image"
   ]
  },
  {
   "cell_type": "code",
   "execution_count": 2,
   "metadata": {},
   "outputs": [],
   "source": [
    "#carrega o banco de dados do mnist\n",
    "\n",
    "(xTrain, yTrain), (xTest, yTest) = mnist.load_data()"
   ]
  },
  {
   "cell_type": "code",
   "execution_count": 3,
   "metadata": {},
   "outputs": [],
   "source": [
    "#xTrain\n",
    "#len(xTrain)\n",
    "#xTrain.shape\n",
    "#yTrain\n",
    "#yTrain.shape"
   ]
  },
  {
   "cell_type": "code",
   "execution_count": 4,
   "metadata": {},
   "outputs": [
    {
     "name": "stdout",
     "output_type": "stream",
     "text": [
      "[0. 0. 0. 0. 0. 1. 0. 0. 0. 0.]\n",
      "[1. 0. 0. 0. 0. 0. 0. 0. 0. 0.]\n",
      "[0. 0. 0. 0. 1. 0. 0. 0. 0. 0.]\n"
     ]
    }
   ],
   "source": [
    "#One-hot encoding\n",
    "yTeste = to_categorical(yTest)\n",
    "yTreino = to_categorical(yTrain)\n",
    "print(yTreino[0])\n",
    "print(yTreino[1])\n",
    "print(yTreino[2])"
   ]
  },
  {
   "cell_type": "code",
   "execution_count": 5,
   "metadata": {},
   "outputs": [],
   "source": [
    "#visualizando exemplo de imagem\n",
    "\n",
    "data = xTrain[0]\n",
    "img = Image.fromarray(data, 'L') #'L' para imagem em escala de cinza (8-bit)\n",
    "\n",
    "#img"
   ]
  },
  {
   "cell_type": "code",
   "execution_count": 6,
   "metadata": {},
   "outputs": [],
   "source": [
    "w, h = 32,32\n",
    "img = img.resize((w,h), Image.ANTIALIAS)\n",
    "img\n",
    "\n",
    "a = np.asarray(img)\n",
    "\n",
    "img = Image.fromarray(a, 'L') #'L' para imagem em escala de cinza (8-bit)\n",
    "#img"
   ]
  },
  {
   "cell_type": "code",
   "execution_count": 7,
   "metadata": {},
   "outputs": [],
   "source": [
    "#ajuste das dimensões das imagens de treino\n",
    "\n",
    "w, h = 32, 32\n",
    "\n",
    "auxList = []\n",
    "\n",
    "for i in range(len(xTrain)):\n",
    "    \n",
    "    img = Image.fromarray(xTrain[i], 'L') #'L' para imagem em escala de cinza (8-bit)\n",
    "\n",
    "    img = img.resize((w,h), Image.ANTIALIAS)\n",
    "    \n",
    "    auxList.append(np.asarray(img))\n",
    "\n",
    "xTreino = np.array(auxList)        \n",
    "#xTreino.shape\n",
    "\n",
    "xTreino = xTreino.reshape((60000,32,32,1))"
   ]
  },
  {
   "cell_type": "code",
   "execution_count": 8,
   "metadata": {},
   "outputs": [
    {
     "data": {
      "text/plain": [
       "False"
      ]
     },
     "execution_count": 8,
     "metadata": {},
     "output_type": "execute_result"
    }
   ],
   "source": [
    "np.array_equal(xTreino[0], xTreino[3])"
   ]
  },
  {
   "cell_type": "code",
   "execution_count": 9,
   "metadata": {},
   "outputs": [],
   "source": [
    "#ajuste das dimensões das imagens de teste\n",
    "\n",
    "w, h = 32, 32\n",
    "\n",
    "auxList = []\n",
    "\n",
    "for i in range(len(xTest)):\n",
    "    \n",
    "    img = Image.fromarray(xTest[i], 'L') #'L' para imagem em escala de cinza (8-bit)\n",
    "\n",
    "    img = img.resize((w,h), Image.ANTIALIAS)\n",
    "\n",
    "    auxList.append(np.asarray(img))\n",
    "\n",
    "xTeste = np.array(auxList)\n",
    "#xTeste.shape\n",
    "\n",
    "xTeste = xTeste.reshape((10000, 32, 32, 1))"
   ]
  },
  {
   "cell_type": "code",
   "execution_count": 10,
   "metadata": {},
   "outputs": [
    {
     "data": {
      "text/plain": [
       "\"#visualizando exemplo de imagem\\n\\ndata = xTreino[0]\\nimg = Image.fromarray(data, 'L') #'L' para imagem em escala de cinza (8-bit)\\n\\n#print(data.shape)\\nimg\""
      ]
     },
     "execution_count": 10,
     "metadata": {},
     "output_type": "execute_result"
    }
   ],
   "source": [
    "'''#visualizando exemplo de imagem\n",
    "\n",
    "data = xTreino[0]\n",
    "img = Image.fromarray(data, 'L') #'L' para imagem em escala de cinza (8-bit)\n",
    "\n",
    "#print(data.shape)\n",
    "img'''"
   ]
  },
  {
   "cell_type": "code",
   "execution_count": 11,
   "metadata": {},
   "outputs": [],
   "source": [
    "def leNet():\n",
    "    \n",
    "    classificador = Sequential()\n",
    "    \n",
    "    #imagem 32x32\n",
    "    #Camada convolucional 1\n",
    "    classificador.add(Conv2D(filters = 6, kernel_size = 5, strides = 1, activation = 'relu', kernel_initializer='random_uniform', input_shape = (32,32,1)))\n",
    "    \n",
    "    classificador.add(Dropout(rate = 0.3))\n",
    "    \n",
    "    #imagem 28x28\n",
    "    #Camada de pooling 1\n",
    "    classificador.add(MaxPooling2D(pool_size = 2, strides = 2))\n",
    "    #classificador.add(AveragePooling2D(pool_size = 2, strides = 2))\n",
    "    \n",
    "    #imagem 14x14\n",
    "    #Camada convolucional 2\n",
    "    classificador.add(Conv2D(filters = 16, kernel_size = 5, strides = 1, activation = 'relu', kernel_initializer='random_uniform', input_shape = (14,14,6)))\n",
    "    \n",
    "    classificador.add(Dropout(rate = 0.3))\n",
    "    \n",
    "    #imagem 10x10\n",
    "    #Camada de pooling 2\n",
    "    classificador.add(MaxPooling2D(pool_size = 2, strides = 2))\n",
    "    #classificador.add(AveragePooling2D(pool_size = 2, strides = 2))\n",
    "    \n",
    "    #imagem 5x5\n",
    "    #Flatten\n",
    "    classificador.add(Flatten())\n",
    "    \n",
    "    #Camada totalmente conectada 1\n",
    "    classificador.add(Dense(units = 120, activation = 'relu', kernel_initializer='random_uniform'))\n",
    "    \n",
    "    classificador.add(Dropout(rate = 0.3))\n",
    "    \n",
    "    #Camada totalmente conectada 2\n",
    "    classificador.add(Dense(units = 84, activation = 'relu',  kernel_initializer='random_uniform'))\n",
    "    \n",
    "    classificador.add(Dropout(rate = 0.3))\n",
    "    \n",
    "    #Camada de saída\n",
    "    classificador.add(Dense(units = 10, activation = 'softmax',  kernel_initializer='random_uniform'))\n",
    "    \n",
    "    adam = optimizers.Adam(lr=0.001, decay=0.00001)\n",
    "    #sgd = optimizers.SGD(lr=0.1, decay=0.01)\n",
    "    \n",
    "    classificador.compile(optimizer = adam, loss = 'categorical_crossentropy', metrics = ['accuracy'])\n",
    "    \n",
    "    return  classificador"
   ]
  },
  {
   "cell_type": "code",
   "execution_count": 12,
   "metadata": {
    "scrolled": true
   },
   "outputs": [
    {
     "name": "stdout",
     "output_type": "stream",
     "text": [
      "Train on 50001 samples, validate on 9999 samples\n",
      "Epoch 0/50\n",
      "50001/50001 [==============================] - 49s 974us/step - loss: 0.9070 - acc: 0.6975 - val_loss: 0.3758 - val_acc: 0.9528\n",
      "Epoch 1/50\n",
      "50001/50001 [==============================] - 47s 941us/step - loss: 0.2906 - acc: 0.9173 - val_loss: 0.2151 - val_acc: 0.9774\n",
      "Epoch 2/50\n",
      "50001/50001 [==============================] - 47s 944us/step - loss: 0.2024 - acc: 0.9460 - val_loss: 0.1542 - val_acc: 0.9801\n",
      "Epoch 3/50\n",
      "50001/50001 [==============================] - 43s 866us/step - loss: 0.1702 - acc: 0.9541 - val_loss: 0.1313 - val_acc: 0.9832\n",
      "Epoch 4/50\n",
      "50001/50001 [==============================] - 45s 898us/step - loss: 0.1490 - acc: 0.9593 - val_loss: 0.1101 - val_acc: 0.9854\n",
      "Epoch 5/50\n",
      "50001/50001 [==============================] - 43s 865us/step - loss: 0.1344 - acc: 0.9637 - val_loss: 0.1030 - val_acc: 0.9867\n",
      "Epoch 6/50\n",
      "50001/50001 [==============================] - 42s 847us/step - loss: 0.1273 - acc: 0.9663 - val_loss: 0.0912 - val_acc: 0.9871\n",
      "Epoch 7/50\n",
      "50001/50001 [==============================] - 42s 843us/step - loss: 0.1191 - acc: 0.9687 - val_loss: 0.0796 - val_acc: 0.9882\n",
      "Epoch 8/50\n",
      "50001/50001 [==============================] - 43s 858us/step - loss: 0.1141 - acc: 0.9708 - val_loss: 0.0767 - val_acc: 0.9882\n",
      "Epoch 9/50\n",
      "50001/50001 [==============================] - 43s 865us/step - loss: 0.1073 - acc: 0.9716 - val_loss: 0.0821 - val_acc: 0.9891\n",
      "Epoch 10/50\n",
      "50001/50001 [==============================] - 43s 856us/step - loss: 0.1035 - acc: 0.9727 - val_loss: 0.0680 - val_acc: 0.9889\n",
      "Epoch 11/50\n",
      "50001/50001 [==============================] - 43s 856us/step - loss: 0.0978 - acc: 0.9739 - val_loss: 0.0722 - val_acc: 0.9905\n",
      "Epoch 12/50\n",
      "50001/50001 [==============================] - 43s 854us/step - loss: 0.0963 - acc: 0.9745 - val_loss: 0.0851 - val_acc: 0.9866\n",
      "Epoch 13/50\n",
      "50001/50001 [==============================] - 43s 855us/step - loss: 0.1529 - acc: 0.9590 - val_loss: 0.0660 - val_acc: 0.9904\n",
      "Epoch 14/50\n",
      "50001/50001 [==============================] - 43s 854us/step - loss: 0.1041 - acc: 0.9718 - val_loss: 0.0612 - val_acc: 0.9894\n",
      "Epoch 15/50\n",
      "50001/50001 [==============================] - 43s 863us/step - loss: 0.0942 - acc: 0.9744 - val_loss: 0.0638 - val_acc: 0.9887\n",
      "Epoch 16/50\n",
      "50001/50001 [==============================] - 43s 856us/step - loss: 0.0905 - acc: 0.9750 - val_loss: 0.0669 - val_acc: 0.9892\n",
      "Epoch 17/50\n",
      "50001/50001 [==============================] - 43s 860us/step - loss: 0.1155 - acc: 0.9690 - val_loss: 0.0577 - val_acc: 0.9895\n",
      "Epoch 18/50\n",
      "50001/50001 [==============================] - 43s 854us/step - loss: 0.0889 - acc: 0.9760 - val_loss: 0.0539 - val_acc: 0.9900\n",
      "Epoch 19/50\n",
      "50001/50001 [==============================] - 43s 853us/step - loss: 0.0835 - acc: 0.9774 - val_loss: 0.0500 - val_acc: 0.9905\n",
      "Epoch 20/50\n",
      "50001/50001 [==============================] - 43s 858us/step - loss: 0.0936 - acc: 0.9746 - val_loss: 0.0492 - val_acc: 0.9908\n",
      "Epoch 21/50\n",
      "50001/50001 [==============================] - 43s 854us/step - loss: 0.0837 - acc: 0.9777 - val_loss: 0.0546 - val_acc: 0.9901\n",
      "Epoch 22/50\n",
      "50001/50001 [==============================] - 44s 889us/step - loss: 0.0845 - acc: 0.9777 - val_loss: 0.0527 - val_acc: 0.9909\n",
      "Epoch 23/50\n",
      "50001/50001 [==============================] - 43s 852us/step - loss: 0.0786 - acc: 0.9787 - val_loss: 0.0502 - val_acc: 0.9899\n",
      "Epoch 24/50\n",
      "50001/50001 [==============================] - 43s 853us/step - loss: 0.0811 - acc: 0.9787 - val_loss: 0.0515 - val_acc: 0.9907\n",
      "Epoch 25/50\n",
      "50001/50001 [==============================] - 43s 856us/step - loss: 0.0986 - acc: 0.9737 - val_loss: 0.0573 - val_acc: 0.9906\n",
      "Epoch 26/50\n",
      "50001/50001 [==============================] - 43s 856us/step - loss: 0.0848 - acc: 0.9775 - val_loss: 0.0530 - val_acc: 0.9890\n",
      "Epoch 27/50\n",
      "50001/50001 [==============================] - 43s 857us/step - loss: 0.0851 - acc: 0.9779 - val_loss: 0.0508 - val_acc: 0.9902\n",
      "Epoch 28/50\n",
      "50001/50001 [==============================] - 43s 857us/step - loss: 0.0749 - acc: 0.9790 - val_loss: 0.0480 - val_acc: 0.9909\n",
      "Epoch 29/50\n",
      "50001/50001 [==============================] - 43s 861us/step - loss: 0.0741 - acc: 0.9801 - val_loss: 0.0466 - val_acc: 0.9915\n",
      "Epoch 30/50\n",
      "50001/50001 [==============================] - 43s 855us/step - loss: 0.0732 - acc: 0.9795 - val_loss: 0.0548 - val_acc: 0.9900\n",
      "Epoch 31/50\n",
      "50001/50001 [==============================] - 43s 856us/step - loss: 0.0760 - acc: 0.9791 - val_loss: 0.0487 - val_acc: 0.9907\n",
      "Epoch 32/50\n",
      "50001/50001 [==============================] - 43s 860us/step - loss: 0.0757 - acc: 0.9786 - val_loss: 0.0434 - val_acc: 0.9900\n",
      "Epoch 33/50\n",
      "50001/50001 [==============================] - 43s 855us/step - loss: 0.0746 - acc: 0.9799 - val_loss: 0.0431 - val_acc: 0.9908\n",
      "Epoch 34/50\n",
      "50001/50001 [==============================] - 43s 856us/step - loss: 0.0719 - acc: 0.9802 - val_loss: 0.0443 - val_acc: 0.9920\n",
      "Epoch 35/50\n",
      "50001/50001 [==============================] - 43s 864us/step - loss: 0.0699 - acc: 0.9817 - val_loss: 0.0430 - val_acc: 0.9915\n",
      "Epoch 36/50\n",
      "50001/50001 [==============================] - 43s 861us/step - loss: 0.0696 - acc: 0.9803 - val_loss: 0.0417 - val_acc: 0.9906\n",
      "Epoch 37/50\n",
      "50001/50001 [==============================] - 43s 862us/step - loss: 0.0704 - acc: 0.9811 - val_loss: 0.0409 - val_acc: 0.9915\n",
      "Epoch 38/50\n",
      "50001/50001 [==============================] - 43s 858us/step - loss: 0.0708 - acc: 0.9810 - val_loss: 0.0444 - val_acc: 0.9910\n",
      "Epoch 39/50\n",
      "50001/50001 [==============================] - 43s 857us/step - loss: 0.0718 - acc: 0.9810 - val_loss: 0.0422 - val_acc: 0.9904\n",
      "Epoch 40/50\n",
      "50001/50001 [==============================] - 43s 855us/step - loss: 0.0703 - acc: 0.9799 - val_loss: 0.0422 - val_acc: 0.9906\n",
      "Epoch 41/50\n",
      "50001/50001 [==============================] - 43s 855us/step - loss: 0.0698 - acc: 0.9810 - val_loss: 0.0382 - val_acc: 0.9916\n",
      "Epoch 42/50\n",
      "50001/50001 [==============================] - 43s 855us/step - loss: 0.0640 - acc: 0.9825 - val_loss: 0.0390 - val_acc: 0.9910\n",
      "Epoch 43/50\n",
      "50001/50001 [==============================] - 43s 857us/step - loss: 0.0701 - acc: 0.9810 - val_loss: 0.0389 - val_acc: 0.9912\n",
      "Epoch 44/50\n",
      "50001/50001 [==============================] - 43s 856us/step - loss: 0.0692 - acc: 0.9814 - val_loss: 0.0383 - val_acc: 0.9914\n",
      "Epoch 45/50\n",
      "50001/50001 [==============================] - 43s 857us/step - loss: 0.0711 - acc: 0.9808 - val_loss: 0.0395 - val_acc: 0.9916\n",
      "Epoch 46/50\n",
      "50001/50001 [==============================] - 43s 856us/step - loss: 0.0721 - acc: 0.9803 - val_loss: 0.0406 - val_acc: 0.9924\n",
      "Epoch 47/50\n",
      "50001/50001 [==============================] - 43s 855us/step - loss: 0.0684 - acc: 0.9813 - val_loss: 0.0411 - val_acc: 0.9911\n",
      "Epoch 48/50\n",
      "50001/50001 [==============================] - 43s 860us/step - loss: 0.0698 - acc: 0.9806 - val_loss: 0.0455 - val_acc: 0.9917\n",
      "Epoch 49/50\n",
      "50001/50001 [==============================] - 43s 857us/step - loss: 0.0714 - acc: 0.9801 - val_loss: 0.0366 - val_acc: 0.9909\n",
      "Epoch 50/50\n",
      "50001/50001 [==============================] - 43s 866us/step - loss: 0.0655 - acc: 0.9813 - val_loss: 0.0369 - val_acc: 0.9916\n"
     ]
    }
   ],
   "source": [
    "model = leNet()\n",
    "#print(xTreino.shape)\n",
    "history = model.fit(xTreino, yTreino, validation_split=0.16665, epochs=50, batch_size=400, initial_epoch=-1)"
   ]
  },
  {
   "cell_type": "code",
   "execution_count": 13,
   "metadata": {},
   "outputs": [
    {
     "data": {
      "image/png": "[encoded data removed]",
      "text/plain": [
       "<Figure size 432x288 with 1 Axes>"
      ]
     },
     "metadata": {},
     "output_type": "display_data"
    }
   ],
   "source": [
    "# Plot training & validation accuracy values\n",
    "plt.plot(history.history['acc'])\n",
    "plt.plot(history.history['val_acc'])\n",
    "plt.title('Model accuracy')\n",
    "plt.ylabel('Accuracy')\n",
    "plt.xlabel('Epoch')\n",
    "plt.legend(['Train', 'Val'], loc='lower right')\n",
    "plt.show()"
   ]
  },
  {
   "cell_type": "code",
   "execution_count": 14,
   "metadata": {},
   "outputs": [
    {
     "data": {
      "image/png": "[encoded data removed]",
      "text/plain": [
       "<Figure size 432x288 with 1 Axes>"
      ]
     },
     "metadata": {},
     "output_type": "display_data"
    }
   ],
   "source": [
    "# Plot training & validation loss values\n",
    "plt.plot(history.history['loss'])\n",
    "plt.plot(history.history['val_loss'])\n",
    "plt.title('Model loss')\n",
    "plt.ylabel('Loss')\n",
    "plt.xlabel('Epoch')\n",
    "plt.legend(['Train', 'Val'], loc='lower right')\n",
    "plt.show()"
   ]
  },
  {
   "cell_type": "code",
   "execution_count": 15,
   "metadata": {},
   "outputs": [
    {
     "name": "stdout",
     "output_type": "stream",
     "text": [
      "10000/10000 [==============================] - 5s 476us/step\n"
     ]
    }
   ],
   "source": [
    "pred = model.evaluate(xTeste, yTeste)"
   ]
  },
  {
   "cell_type": "code",
   "execution_count": 16,
   "metadata": {},
   "outputs": [
    {
     "data": {
      "text/plain": [
       "[0.03384841865974013, 0.9911]"
      ]
     },
     "execution_count": 16,
     "metadata": {},
     "output_type": "execute_result"
    }
   ],
   "source": [
    "pred"
   ]
  }
 ],
 "metadata": {
  "kernelspec": {
   "display_name": "Python 3",
   "language": "python",
   "name": "python3"
  },
  "language_info": {
   "codemirror_mode": {
    "name": "ipython",
    "version": 3
   },
   "file_extension": ".py",
   "mimetype": "text/x-python",
   "name": "python",
   "nbconvert_exporter": "python",
   "pygments_lexer": "ipython3",
   "version": "3.5.2"
  }
 },
 "nbformat": 4,
 "nbformat_minor": 2
}
