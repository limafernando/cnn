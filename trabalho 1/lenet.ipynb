{
 "cells": [
  {
   "cell_type": "code",
   "execution_count": 1,
   "metadata": {},
   "outputs": [
    {
     "name": "stderr",
     "output_type": "stream",
     "text": [
      "Using TensorFlow backend.\n"
     ]
    }
   ],
   "source": [
    "import matplotlib.pyplot as plt\n",
    "\n",
    "import numpy as np\n",
    "\n",
    "import keras\n",
    "\n",
    "from keras.datasets import mnist\n",
    "\n",
    "from keras.models import Sequential\n",
    "\n",
    "from keras.layers import Conv2D\n",
    "from keras.layers import MaxPooling2D\n",
    "from keras.layers import Flatten\n",
    "from keras.layers import Dense\n",
    "from keras.layers import Dropout\n",
    "\n",
    "from keras import optimizers as optimizers\n",
    "\n",
    "from keras.utils.np_utils import to_categorical\n",
    "\n",
    "from PIL import Image"
   ]
  },
  {
   "cell_type": "code",
   "execution_count": 2,
   "metadata": {},
   "outputs": [],
   "source": [
    "#carrega o banco de dados do mnist\n",
    "\n",
    "(xTrain, yTrain), (xTest, yTest) = mnist.load_data()"
   ]
  },
  {
   "cell_type": "code",
   "execution_count": 3,
   "metadata": {},
   "outputs": [],
   "source": [
    "#xTrain\n",
    "#len(xTrain)\n",
    "#xTrain.shape\n",
    "#yTrain\n",
    "#yTrain.shape"
   ]
  },
  {
   "cell_type": "code",
   "execution_count": 4,
   "metadata": {},
   "outputs": [
    {
     "name": "stdout",
     "output_type": "stream",
     "text": [
      "[0. 0. 0. 0. 0. 1. 0. 0. 0. 0.]\n",
      "[1. 0. 0. 0. 0. 0. 0. 0. 0. 0.]\n",
      "[0. 0. 0. 0. 1. 0. 0. 0. 0. 0.]\n"
     ]
    }
   ],
   "source": [
    "#One-hot encoding\n",
    "yTeste = to_categorical(yTest)\n",
    "yTreino = to_categorical(yTrain)\n",
    "print(yTreino[0])\n",
    "print(yTreino[1])\n",
    "print(yTreino[2])"
   ]
  },
  {
   "cell_type": "code",
   "execution_count": 5,
   "metadata": {},
   "outputs": [],
   "source": [
    "#visualizando exemplo de imagem\n",
    "\n",
    "data = xTrain[0]\n",
    "img = Image.fromarray(data, 'L') #'L' para imagem em escala de cinza (8-bit)\n",
    "\n",
    "#img"
   ]
  },
  {
   "cell_type": "code",
   "execution_count": 6,
   "metadata": {},
   "outputs": [],
   "source": [
    "w, h = 32,32\n",
    "img = img.resize((w,h), Image.ANTIALIAS)\n",
    "img\n",
    "\n",
    "a = np.asarray(img)\n",
    "\n",
    "img = Image.fromarray(a, 'L') #'L' para imagem em escala de cinza (8-bit)\n",
    "#img"
   ]
  },
  {
   "cell_type": "code",
   "execution_count": 7,
   "metadata": {},
   "outputs": [],
   "source": [
    "#ajuste das dimensões das imagens de treino\n",
    "\n",
    "w, h = 32, 32\n",
    "\n",
    "auxList = []\n",
    "\n",
    "for i in range(len(xTrain)):\n",
    "    \n",
    "    img = Image.fromarray(xTrain[i], 'L') #'L' para imagem em escala de cinza (8-bit)\n",
    "\n",
    "    img = img.resize((w,h), Image.ANTIALIAS)\n",
    "    \n",
    "    auxList.append(np.asarray(img))\n",
    "\n",
    "xTreino = np.array(auxList)        \n",
    "#xTreino.shape\n",
    "\n",
    "xTreino = xTreino.reshape((60000,32,32,1))"
   ]
  },
  {
   "cell_type": "code",
   "execution_count": 8,
   "metadata": {},
   "outputs": [
    {
     "data": {
      "text/plain": [
       "False"
      ]
     },
     "execution_count": 8,
     "metadata": {},
     "output_type": "execute_result"
    }
   ],
   "source": [
    "np.array_equal(xTreino[0], xTreino[3])"
   ]
  },
  {
   "cell_type": "code",
   "execution_count": 9,
   "metadata": {},
   "outputs": [],
   "source": [
    "#ajuste das dimensões das imagens de teste\n",
    "\n",
    "w, h = 32, 32\n",
    "\n",
    "auxList = []\n",
    "\n",
    "for i in range(len(xTest)):\n",
    "    \n",
    "    img = Image.fromarray(xTest[i], 'L') #'L' para imagem em escala de cinza (8-bit)\n",
    "\n",
    "    img = img.resize((w,h), Image.ANTIALIAS)\n",
    "\n",
    "    auxList.append(np.asarray(img))\n",
    "\n",
    "xTeste = np.array(auxList)\n",
    "#xTeste.shape\n",
    "\n",
    "xTeste = xTeste.reshape((10000, 32, 32, 1))"
   ]
  },
  {
   "cell_type": "code",
   "execution_count": 10,
   "metadata": {},
   "outputs": [
    {
     "data": {
      "text/plain": [
       "\"#visualizando exemplo de imagem\\n\\ndata = xTreino[0]\\nimg = Image.fromarray(data, 'L') #'L' para imagem em escala de cinza (8-bit)\\n\\n#print(data.shape)\\nimg\""
      ]
     },
     "execution_count": 10,
     "metadata": {},
     "output_type": "execute_result"
    }
   ],
   "source": [
    "'''#visualizando exemplo de imagem\n",
    "\n",
    "data = xTreino[0]\n",
    "img = Image.fromarray(data, 'L') #'L' para imagem em escala de cinza (8-bit)\n",
    "\n",
    "#print(data.shape)\n",
    "img'''"
   ]
  },
  {
   "cell_type": "code",
   "execution_count": 11,
   "metadata": {},
   "outputs": [],
   "source": [
    "def leNet():\n",
    "    \n",
    "    classificador = Sequential()\n",
    "    \n",
    "    #imagem 32x32\n",
    "    #Camada convolucional 1\n",
    "    classificador.add(Conv2D(filters = 6, kernel_size = 5, strides = 1, activation = 'relu', kernel_initializer='random_uniform', input_shape = (32,32,1)))\n",
    "    \n",
    "    #imagem 28x28\n",
    "    #Camada de pooling 1\n",
    "    classificador.add(MaxPooling2D(pool_size = 2, strides = 2))\n",
    "    \n",
    "    #imagem 14x14\n",
    "    #Camada convolucional 2\n",
    "    classificador.add(Conv2D(filters = 16, kernel_size = 5, strides = 1, activation = 'relu', kernel_initializer='random_uniform', input_shape = (14,14,6)))\n",
    "    \n",
    "    #imagem 10x10\n",
    "    #Camada de pooling 2\n",
    "    classificador.add(MaxPooling2D(pool_size = 2, strides = 2))\n",
    "    \n",
    "    #imagem 5x5\n",
    "    #Flatten\n",
    "    classificador.add(Flatten())\n",
    "    \n",
    "    #Camada totalmente conectada 1\n",
    "    classificador.add(Dense(units = 120, activation = 'relu', kernel_initializer='random_uniform'))\n",
    "    \n",
    "    #Camada totalmente conectada 2\n",
    "    classificador.add(Dense(units = 84, activation = 'relu',  kernel_initializer='random_uniform'))\n",
    "    \n",
    "    #Camada de saída\n",
    "    classificador.add(Dense(units = 10, activation = 'softmax',  kernel_initializer='random_uniform'))\n",
    "    \n",
    "    adam = optimizers.Adam(lr=0.001, decay=0.00001)\n",
    "    #sgd = optimizers.SGD(lr=0.1, decay=0.01)\n",
    "    \n",
    "    classificador.compile(optimizer = adam, loss = 'categorical_crossentropy', metrics = ['accuracy'])\n",
    "    \n",
    "    return  classificador"
   ]
  },
  {
   "cell_type": "code",
   "execution_count": 12,
   "metadata": {
    "scrolled": true
   },
   "outputs": [
    {
     "name": "stdout",
     "output_type": "stream",
     "text": [
      "Train on 50001 samples, validate on 9999 samples\n",
      "Epoch 0/75\n",
      "50001/50001 [==============================] - 38s 754us/step - loss: 0.3603 - acc: 0.8956 - val_loss: 0.1080 - val_acc: 0.9682\n",
      "Epoch 1/75\n",
      "50001/50001 [==============================] - 37s 730us/step - loss: 0.0906 - acc: 0.9726 - val_loss: 0.0891 - val_acc: 0.9723\n",
      "Epoch 2/75\n",
      "50001/50001 [==============================] - 37s 730us/step - loss: 0.0633 - acc: 0.9803 - val_loss: 0.0671 - val_acc: 0.9801\n",
      "Epoch 3/75\n",
      "50001/50001 [==============================] - 37s 732us/step - loss: 0.0485 - acc: 0.9852 - val_loss: 0.0603 - val_acc: 0.9815\n",
      "Epoch 4/75\n",
      "50001/50001 [==============================] - 37s 739us/step - loss: 0.0400 - acc: 0.9869 - val_loss: 0.0545 - val_acc: 0.9838\n",
      "Epoch 5/75\n",
      "50001/50001 [==============================] - 37s 739us/step - loss: 0.0341 - acc: 0.9891 - val_loss: 0.0462 - val_acc: 0.9863\n",
      "Epoch 6/75\n",
      "50001/50001 [==============================] - 36s 728us/step - loss: 0.0273 - acc: 0.9908 - val_loss: 0.0538 - val_acc: 0.9839\n",
      "Epoch 7/75\n",
      "50001/50001 [==============================] - 36s 729us/step - loss: 0.0248 - acc: 0.9923 - val_loss: 0.0489 - val_acc: 0.9862\n",
      "Epoch 8/75\n",
      "50001/50001 [==============================] - 36s 728us/step - loss: 0.0196 - acc: 0.9937 - val_loss: 0.0471 - val_acc: 0.9877\n",
      "Epoch 9/75\n",
      "50001/50001 [==============================] - 36s 728us/step - loss: 0.0199 - acc: 0.9932 - val_loss: 0.0609 - val_acc: 0.9842\n",
      "Epoch 10/75\n",
      "50001/50001 [==============================] - 38s 762us/step - loss: 0.0171 - acc: 0.9944 - val_loss: 0.0489 - val_acc: 0.9879\n",
      "Epoch 11/75\n",
      "50001/50001 [==============================] - 36s 729us/step - loss: 0.0132 - acc: 0.9957 - val_loss: 0.0494 - val_acc: 0.9882\n",
      "Epoch 12/75\n",
      "50001/50001 [==============================] - 37s 732us/step - loss: 0.0142 - acc: 0.9949 - val_loss: 0.0482 - val_acc: 0.9876\n",
      "Epoch 13/75\n",
      "50001/50001 [==============================] - 36s 728us/step - loss: 0.0103 - acc: 0.9965 - val_loss: 0.0510 - val_acc: 0.9871\n",
      "Epoch 14/75\n",
      "50001/50001 [==============================] - 36s 728us/step - loss: 0.0105 - acc: 0.9963 - val_loss: 0.0430 - val_acc: 0.9895\n",
      "Epoch 15/75\n",
      "50001/50001 [==============================] - 36s 728us/step - loss: 0.0086 - acc: 0.9973 - val_loss: 0.0618 - val_acc: 0.9863\n",
      "Epoch 16/75\n",
      "50001/50001 [==============================] - 36s 727us/step - loss: 0.0089 - acc: 0.9969 - val_loss: 0.0613 - val_acc: 0.9853\n",
      "Epoch 17/75\n",
      "50001/50001 [==============================] - 36s 728us/step - loss: 0.0099 - acc: 0.9967 - val_loss: 0.0510 - val_acc: 0.9880\n",
      "Epoch 18/75\n",
      "50001/50001 [==============================] - 36s 728us/step - loss: 0.0073 - acc: 0.9976 - val_loss: 0.0518 - val_acc: 0.9884\n",
      "Epoch 19/75\n",
      "50001/50001 [==============================] - 37s 732us/step - loss: 0.0117 - acc: 0.9960 - val_loss: 0.0477 - val_acc: 0.9885\n",
      "Epoch 20/75\n",
      "50001/50001 [==============================] - 36s 728us/step - loss: 0.0043 - acc: 0.9986 - val_loss: 0.0600 - val_acc: 0.9882\n",
      "Epoch 21/75\n",
      "50001/50001 [==============================] - 37s 732us/step - loss: 0.0059 - acc: 0.9980 - val_loss: 0.0692 - val_acc: 0.9856\n",
      "Epoch 22/75\n",
      "50001/50001 [==============================] - 37s 737us/step - loss: 0.0092 - acc: 0.9966 - val_loss: 0.0551 - val_acc: 0.9861\n",
      "Epoch 23/75\n",
      "50001/50001 [==============================] - 38s 768us/step - loss: 0.0092 - acc: 0.9968 - val_loss: 0.0611 - val_acc: 0.9876\n",
      "Epoch 24/75\n",
      "50001/50001 [==============================] - 38s 758us/step - loss: 0.0063 - acc: 0.9978 - val_loss: 0.0564 - val_acc: 0.9887\n",
      "Epoch 25/75\n",
      "50001/50001 [==============================] - 38s 757us/step - loss: 0.0039 - acc: 0.9985 - val_loss: 0.0844 - val_acc: 0.9845\n",
      "Epoch 26/75\n",
      "50001/50001 [==============================] - 38s 756us/step - loss: 0.0046 - acc: 0.9985 - val_loss: 0.0643 - val_acc: 0.9874\n",
      "Epoch 27/75\n",
      "50001/50001 [==============================] - 38s 754us/step - loss: 0.0113 - acc: 0.9960 - val_loss: 0.0674 - val_acc: 0.9871\n",
      "Epoch 28/75\n",
      "50001/50001 [==============================] - 38s 766us/step - loss: 0.0072 - acc: 0.9974 - val_loss: 0.0612 - val_acc: 0.9882\n",
      "Epoch 29/75\n",
      "50001/50001 [==============================] - 38s 758us/step - loss: 0.0089 - acc: 0.9972 - val_loss: 0.0547 - val_acc: 0.9880\n",
      "Epoch 30/75\n",
      "50001/50001 [==============================] - 38s 753us/step - loss: 0.0040 - acc: 0.9987 - val_loss: 0.0661 - val_acc: 0.9883\n",
      "Epoch 31/75\n",
      "50001/50001 [==============================] - 38s 754us/step - loss: 0.0040 - acc: 0.9986 - val_loss: 0.0673 - val_acc: 0.9875\n",
      "Epoch 32/75\n",
      "50001/50001 [==============================] - 38s 751us/step - loss: 0.0050 - acc: 0.9983 - val_loss: 0.0599 - val_acc: 0.9896\n",
      "Epoch 33/75\n",
      "50001/50001 [==============================] - 38s 753us/step - loss: 0.0054 - acc: 0.9982 - val_loss: 0.0633 - val_acc: 0.9880\n",
      "Epoch 34/75\n",
      "50001/50001 [==============================] - 38s 753us/step - loss: 0.0026 - acc: 0.9992 - val_loss: 0.0571 - val_acc: 0.9908\n",
      "Epoch 35/75\n",
      "50001/50001 [==============================] - 38s 753us/step - loss: 0.0034 - acc: 0.9990 - val_loss: 0.0669 - val_acc: 0.9884\n",
      "Epoch 36/75\n",
      "50001/50001 [==============================] - 38s 753us/step - loss: 0.0073 - acc: 0.9976 - val_loss: 0.0768 - val_acc: 0.9860\n",
      "Epoch 37/75\n",
      "50001/50001 [==============================] - 38s 756us/step - loss: 0.0069 - acc: 0.9979 - val_loss: 0.0617 - val_acc: 0.9891\n",
      "Epoch 38/75\n",
      "50001/50001 [==============================] - 38s 754us/step - loss: 0.0065 - acc: 0.9975 - val_loss: 0.0766 - val_acc: 0.9884\n",
      "Epoch 39/75\n",
      "50001/50001 [==============================] - 38s 753us/step - loss: 0.0076 - acc: 0.9975 - val_loss: 0.0585 - val_acc: 0.9893\n",
      "Epoch 40/75\n",
      "50001/50001 [==============================] - 38s 754us/step - loss: 0.0041 - acc: 0.9986 - val_loss: 0.0577 - val_acc: 0.9895\n",
      "Epoch 41/75\n",
      "50001/50001 [==============================] - 38s 756us/step - loss: 0.0011 - acc: 0.9996 - val_loss: 0.0566 - val_acc: 0.9903\n",
      "Epoch 42/75\n",
      "50001/50001 [==============================] - 38s 755us/step - loss: 0.0021 - acc: 0.9994 - val_loss: 0.0584 - val_acc: 0.9897\n",
      "Epoch 43/75\n",
      "50001/50001 [==============================] - 38s 755us/step - loss: 0.0046 - acc: 0.9986 - val_loss: 0.0590 - val_acc: 0.9904\n",
      "Epoch 44/75\n",
      "50001/50001 [==============================] - 38s 755us/step - loss: 0.0061 - acc: 0.9980 - val_loss: 0.0620 - val_acc: 0.9892\n",
      "Epoch 45/75\n",
      "50001/50001 [==============================] - 38s 759us/step - loss: 0.0058 - acc: 0.9981 - val_loss: 0.0660 - val_acc: 0.9897\n",
      "Epoch 46/75\n",
      "50001/50001 [==============================] - 38s 755us/step - loss: 0.0020 - acc: 0.9993 - val_loss: 0.0571 - val_acc: 0.9905\n",
      "Epoch 47/75\n",
      "50001/50001 [==============================] - 38s 754us/step - loss: 0.0039 - acc: 0.9987 - val_loss: 0.0665 - val_acc: 0.9887\n",
      "Epoch 48/75\n",
      "50001/50001 [==============================] - 38s 754us/step - loss: 0.0076 - acc: 0.9976 - val_loss: 0.0786 - val_acc: 0.9876\n",
      "Epoch 49/75\n",
      "50001/50001 [==============================] - 38s 756us/step - loss: 0.0081 - acc: 0.9975 - val_loss: 0.0611 - val_acc: 0.9897\n",
      "Epoch 50/75\n",
      "50001/50001 [==============================] - 38s 756us/step - loss: 0.0026 - acc: 0.9992 - val_loss: 0.0590 - val_acc: 0.9904\n",
      "Epoch 51/75\n",
      "50001/50001 [==============================] - 38s 767us/step - loss: 0.0042 - acc: 0.9987 - val_loss: 0.0709 - val_acc: 0.9891\n",
      "Epoch 52/75\n",
      "50001/50001 [==============================] - 38s 755us/step - loss: 0.0042 - acc: 0.9984 - val_loss: 0.0645 - val_acc: 0.9898\n",
      "Epoch 53/75\n",
      "50001/50001 [==============================] - 38s 752us/step - loss: 0.0013 - acc: 0.9995 - val_loss: 0.0598 - val_acc: 0.9901\n",
      "Epoch 54/75\n",
      "50001/50001 [==============================] - 38s 751us/step - loss: 0.0041 - acc: 0.9989 - val_loss: 0.0673 - val_acc: 0.9883\n",
      "Epoch 55/75\n",
      "50001/50001 [==============================] - 38s 753us/step - loss: 0.0054 - acc: 0.9983 - val_loss: 0.0559 - val_acc: 0.9899\n",
      "Epoch 56/75\n",
      "50001/50001 [==============================] - 38s 754us/step - loss: 0.0035 - acc: 0.9989 - val_loss: 0.0752 - val_acc: 0.9877\n",
      "Epoch 57/75\n",
      "50001/50001 [==============================] - 38s 753us/step - loss: 0.0047 - acc: 0.9986 - val_loss: 0.0595 - val_acc: 0.9908\n",
      "Epoch 58/75\n"
     ]
    },
    {
     "name": "stdout",
     "output_type": "stream",
     "text": [
      "50001/50001 [==============================] - 38s 768us/step - loss: 0.0021 - acc: 0.9995 - val_loss: 0.0622 - val_acc: 0.9904\n",
      "Epoch 59/75\n",
      "50001/50001 [==============================] - 37s 745us/step - loss: 0.0061 - acc: 0.9983 - val_loss: 0.0874 - val_acc: 0.9860\n",
      "Epoch 60/75\n",
      "50001/50001 [==============================] - 41s 812us/step - loss: 0.0029 - acc: 0.9990 - val_loss: 0.0691 - val_acc: 0.9894\n",
      "Epoch 61/75\n",
      "50001/50001 [==============================] - 37s 740us/step - loss: 0.0038 - acc: 0.9990 - val_loss: 0.0683 - val_acc: 0.9890\n",
      "Epoch 62/75\n",
      "50001/50001 [==============================] - 37s 741us/step - loss: 0.0031 - acc: 0.9990 - val_loss: 0.0717 - val_acc: 0.9901\n",
      "Epoch 63/75\n",
      "50001/50001 [==============================] - 37s 744us/step - loss: 0.0456 - acc: 0.9892 - val_loss: 0.0582 - val_acc: 0.9881\n",
      "Epoch 64/75\n",
      "50001/50001 [==============================] - 37s 739us/step - loss: 0.0061 - acc: 0.9979 - val_loss: 0.0598 - val_acc: 0.9904\n",
      "Epoch 65/75\n",
      "50001/50001 [==============================] - 37s 741us/step - loss: 0.0011 - acc: 0.9996 - val_loss: 0.0588 - val_acc: 0.9912\n",
      "Epoch 66/75\n",
      "50001/50001 [==============================] - 37s 741us/step - loss: 2.4567e-04 - acc: 1.0000 - val_loss: 0.0605 - val_acc: 0.9918\n",
      "Epoch 67/75\n",
      "50001/50001 [==============================] - 37s 740us/step - loss: 8.1000e-05 - acc: 1.0000 - val_loss: 0.0617 - val_acc: 0.9921\n",
      "Epoch 68/75\n",
      "50001/50001 [==============================] - 37s 747us/step - loss: 5.1433e-05 - acc: 1.0000 - val_loss: 0.0625 - val_acc: 0.9921\n",
      "Epoch 69/75\n",
      "50001/50001 [==============================] - 37s 742us/step - loss: 3.8630e-05 - acc: 1.0000 - val_loss: 0.0631 - val_acc: 0.9922\n",
      "Epoch 70/75\n",
      "50001/50001 [==============================] - 37s 744us/step - loss: 3.0868e-05 - acc: 1.0000 - val_loss: 0.0637 - val_acc: 0.9921\n",
      "Epoch 71/75\n",
      "50001/50001 [==============================] - 37s 743us/step - loss: 2.5745e-05 - acc: 1.0000 - val_loss: 0.0643 - val_acc: 0.9920\n",
      "Epoch 72/75\n",
      "50001/50001 [==============================] - 37s 744us/step - loss: 2.1591e-05 - acc: 1.0000 - val_loss: 0.0649 - val_acc: 0.9920\n",
      "Epoch 73/75\n",
      "50001/50001 [==============================] - 37s 745us/step - loss: 1.8653e-05 - acc: 1.0000 - val_loss: 0.0652 - val_acc: 0.9920\n",
      "Epoch 74/75\n",
      "50001/50001 [==============================] - 39s 785us/step - loss: 1.6072e-05 - acc: 1.0000 - val_loss: 0.0656 - val_acc: 0.9919\n",
      "Epoch 75/75\n",
      "50001/50001 [==============================] - 37s 746us/step - loss: 1.4107e-05 - acc: 1.0000 - val_loss: 0.0660 - val_acc: 0.9919\n"
     ]
    }
   ],
   "source": [
    "model = leNet()\n",
    "#print(xTreino.shape)\n",
    "history = model.fit(xTreino, yTreino, validation_split=0.16665, epochs=75, batch_size=400, initial_epoch=-1)"
   ]
  },
  {
   "cell_type": "code",
   "execution_count": 13,
   "metadata": {},
   "outputs": [
    {
     "data": {
      "image/png": "[encoded data removed]",
      "text/plain": [
       "<Figure size 432x288 with 1 Axes>"
      ]
     },
     "metadata": {},
     "output_type": "display_data"
    }
   ],
   "source": [
    "# Plot training & validation accuracy values\n",
    "plt.plot(history.history['acc'])\n",
    "plt.plot(history.history['val_acc'])\n",
    "plt.title('Model accuracy')\n",
    "plt.ylabel('Accuracy')\n",
    "plt.xlabel('Epoch')\n",
    "plt.legend(['Train', 'Val'], loc='lower right')\n",
    "plt.show()"
   ]
  },
  {
   "cell_type": "code",
   "execution_count": 14,
   "metadata": {},
   "outputs": [
    {
     "data": {
      "image/png": "[encoded data removed]",
      "text/plain": [
       "<Figure size 432x288 with 1 Axes>"
      ]
     },
     "metadata": {},
     "output_type": "display_data"
    }
   ],
   "source": [
    "# Plot training & validation loss values\n",
    "plt.plot(history.history['loss'])\n",
    "plt.plot(history.history['val_loss'])\n",
    "plt.title('Model loss')\n",
    "plt.ylabel('Loss')\n",
    "plt.xlabel('Epoch')\n",
    "plt.legend(['Train', 'Val'], loc='lower right')\n",
    "plt.show()"
   ]
  },
  {
   "cell_type": "code",
   "execution_count": 15,
   "metadata": {},
   "outputs": [
    {
     "name": "stdout",
     "output_type": "stream",
     "text": [
      "10000/10000 [==============================] - 4s 450us/step\n"
     ]
    }
   ],
   "source": [
    "pred = model.evaluate(xTeste, yTeste)"
   ]
  },
  {
   "cell_type": "code",
   "execution_count": 16,
   "metadata": {},
   "outputs": [
    {
     "data": {
      "text/plain": [
       "[0.06066793866320372, 0.991]"
      ]
     },
     "execution_count": 16,
     "metadata": {},
     "output_type": "execute_result"
    }
   ],
   "source": [
    "pred"
   ]
  }
 ],
 "metadata": {
  "kernelspec": {
   "display_name": "Python 3",
   "language": "python",
   "name": "python3"
  },
  "language_info": {
   "codemirror_mode": {
    "name": "ipython",
    "version": 3
   },
   "file_extension": ".py",
   "mimetype": "text/x-python",
   "name": "python",
   "nbconvert_exporter": "python",
   "pygments_lexer": "ipython3",
   "version": "3.5.2"
  }
 },
 "nbformat": 4,
 "nbformat_minor": 2
}
