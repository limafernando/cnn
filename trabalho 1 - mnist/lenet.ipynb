{
 "cells": [
  {
   "cell_type": "code",
   "execution_count": 1,
   "metadata": {},
   "outputs": [
    {
     "name": "stderr",
     "output_type": "stream",
     "text": [
      "Using TensorFlow backend.\n"
     ]
    }
   ],
   "source": [
    "import keras\n",
    "\n",
    "from keras.datasets import mnist\n",
    "\n",
    "from keras.models import Sequential\n",
    "\n",
    "from keras.layers import Conv2D\n",
    "from keras.layers import MaxPooling2D\n",
    "from keras.layers import Flatten\n",
    "from keras.layers import Dense\n",
    "\n",
    "from keras.utils.np_utils import to_categorical\n",
    "\n",
    "from PIL import Image"
   ]
  },
  {
   "cell_type": "code",
   "execution_count": 33,
   "metadata": {},
   "outputs": [],
   "source": [
    "#carrega o banco de dados do mnist\n",
    "\n",
    "(xTreino, yTreino), (xTeste, yTeste) = mnist.load_data()"
   ]
  },
  {
   "cell_type": "code",
   "execution_count": 31,
   "metadata": {},
   "outputs": [
    {
     "data": {
      "text/plain": [
       "(10000, 32, 32)"
      ]
     },
     "execution_count": 31,
     "metadata": {},
     "output_type": "execute_result"
    }
   ],
   "source": [
    "#xTreino\n",
    "xTeste.shape\n",
    "#yTreino\n",
    "#yTreino.shape"
   ]
  },
  {
   "cell_type": "code",
   "execution_count": 36,
   "metadata": {},
   "outputs": [],
   "source": [
    "#ajuste das dimensões das imagens\n",
    "\n",
    "xTreino.resize((xTreino.shape[0], 32, 32), refcheck=False)\n",
    "xTeste.resize((xTeste.shape[0], 32, 32))\n",
    "\n",
    "xTreino = xTreino.reshape(xTreino.shape[0], 32, 32)\n",
    "xTeste = xTeste.reshape(xTeste.shape[0], 32, 32)"
   ]
  },
  {
   "cell_type": "code",
   "execution_count": null,
   "metadata": {},
   "outputs": [],
   "source": [
    "#One-hot encoding\n",
    "\n",
    "yTreino = to_categorical(yTreino)\n",
    "yTreino"
   ]
  },
  {
   "cell_type": "code",
   "execution_count": 37,
   "metadata": {},
   "outputs": [
    {
     "data": {
      "image/png": "[encoded data removed]",
      "text/plain": [
       "<PIL.Image.Image image mode=L size=32x32 at 0x7F9F8AF6BDA0>"
      ]
     },
     "execution_count": 37,
     "metadata": {},
     "output_type": "execute_result"
    }
   ],
   "source": [
    "w, h = 32,32\n",
    "data = xTreino[0]\n",
    "img = Image.fromarray(data, 'L') #'L' para imagem em escala de cinza (8-bit)\n",
    "\n",
    "img"
   ]
  },
  {
   "cell_type": "code",
   "execution_count": null,
   "metadata": {},
   "outputs": [],
   "source": [
    "def leNet():\n",
    "    \n",
    "    classificador = Sequential()\n",
    "    \n",
    "    #imagem 32x32\n",
    "    #Camada convolucional 1\n",
    "    classificador.add(Conv2D(filters = 6, kernel_size = 5, strides = 1, activation = 'relu', input_shape = (32,32,1)))\n",
    "    \n",
    "    #imagem 28x28\n",
    "    #Camada de pooling 1\n",
    "    classificador.add(MaxPooling2D(pool_size = 2, strides = 2))\n",
    "    \n",
    "    #imagem 14x14\n",
    "    #Camada convolucional 2\n",
    "    classificador.add(Conv2D(filters = 16, kernel_size = 5, strides = 1, activation = 'relu', input_shape = (14,14,6)))\n",
    "    \n",
    "    #imagem 10x10\n",
    "    #Camada de pooling 2\n",
    "    classificador.add(MaxPooling2D(pool_size = 2, strides = 2))\n",
    "    \n",
    "    #imagem 5x5\n",
    "    #Flatten\n",
    "    classificador.add(Flatten())\n",
    "    \n",
    "    #Camada totalmente conectada 1\n",
    "    classificador.add(Dense(units = 120, activation = 'relu'))\n",
    "    \n",
    "    #Camada totalmente conectada 2\n",
    "    classificador.add(Dense(units = 84, activation = 'relu'))\n",
    "    \n",
    "    #Camada de saída\n",
    "    classificador.add(Dense(units = 10, activation = 'softmax'))\n",
    "    \n",
    "    classificador.compile(optimizer = 'adam', loss = 'categorical_crossentropy', metrics = ['accuracy'])\n",
    "    \n",
    "    return  classificador"
   ]
  }
 ],
 "metadata": {
  "kernelspec": {
   "display_name": "Python 3",
   "language": "python",
   "name": "python3"
  },
  "language_info": {
   "codemirror_mode": {
    "name": "ipython",
    "version": 3
   },
   "file_extension": ".py",
   "mimetype": "text/x-python",
   "name": "python",
   "nbconvert_exporter": "python",
   "pygments_lexer": "ipython3",
   "version": "3.5.2"
  }
 },
 "nbformat": 4,
 "nbformat_minor": 2
}
